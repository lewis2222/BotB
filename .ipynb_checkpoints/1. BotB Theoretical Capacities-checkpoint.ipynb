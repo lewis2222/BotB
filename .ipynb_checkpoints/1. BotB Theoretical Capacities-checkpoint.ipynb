{
 "cells": [
  {
   "cell_type": "markdown",
   "metadata": {},
   "source": [
    "# __Back of the Battery Calculator__\n",
    "---\n",
    "# __1. Theoretical Capacties__\n",
    "\n",
    "\n",
    "#### Copyright © Intercalation Ltd. All rights reserved.\n",
    "\n",
    "<div>\n",
    "<img src=\"images/fig_botb.png\" width=\"800\">\n",
    "</div>\n",
    "\n",
    "Welcome to the first installment! Today we'll work out how the theoretical capacity for a particular compound to store lithium ions is related to the molecular mass and the chemical formulation.\n",
    "\n"
   ]
  },
  {
   "cell_type": "code",
   "execution_count": 3,
   "metadata": {},
   "outputs": [],
   "source": [
    "#Standard packages\n",
    "import numpy as np\n",
    "import pandas as pd\n",
    "import matplotlib.pyplot as plt\n",
    "from matplotlib.pyplot import figure\n",
    "\n",
    "#Functions created for this sheet\n",
    "from BotB_functions import fn_theoreticalcap as fn"
   ]
  },
  {
   "cell_type": "markdown",
   "metadata": {},
   "source": [
    "---\n",
    "\n",
    "### __Calculating theoretical capacity from a chemical formula__\n",
    "\n",
    "The capacity of a battery material is the amount of charge (lithium ions) that can be stored by the material. The theoretical capacity for a particular compound is related to its molecular mass and chemical formulation, relative to the amount of lithium that moves in and out during charge and discharge.\n",
    "\n",
    "## Faraday's Law to Calculate Capacity\n",
    "Michael Faraday discovered in the 1800s that the amount of a substance deposited electrochemically by passing some amount of charge is directly related to the molecular mass of that substance. This remains the case for batteries where Li ions (or other metals) is shuttled between the cathode and anode materials.\n",
    "\n",
    "\n",
    "This relationship is now known as Faraday's law, where the theoretical charge per mass or gravimetric capacity is given by:\n",
    "\n",
    "<!-- $$ Q_\\text{grav} = \\frac{Q}{m} = \\frac{nF}{M}$$ -->\n",
    "$$ Q_\\text{grav} =  \\frac{nF}{M}\\times\\frac{1}{3600}\\times 1000$$\n",
    "where:\n",
    "<!-- - $Q$ is the amount of charge (capacity)\n",
    "- $m$ is the amount of mass -->\n",
    "- $Q_\\text{grav}$ is the gravimetric capacity [__mAh/g__]\n",
    "- $n$ is the valence of the ion (1 for Li$^+$) \n",
    "- $M$ is the molecular mass of the material [__g/mol__]\n",
    "- $F$ is Faraday's constant $F = 96485$ [__C/mol__] representing the charge in one mole of electrons\n",
    "\n",
    "If we work with molar masses in the [__g__] units, and want $Q_\\text{grav}$ in the \"industry standard\" units of milli amp-hours per gram [__mAh/g__], we must scale the units:\n",
    "- $\\times\\frac{1}{3600}$ scales the coulombs in amp-seconds [__A*s__] to amp-hours [__A*h__]\n",
    "- $\\times 1000$ scales the amp-hours [__A*h__] to milli amp-hours [__mAh__]\n",
    "\n",
    "\n",
    "\n",
    "---\n",
    "\n",
    "\n",
    "# Lithium cobalt oxide example\n",
    "Lets calculate some capacities, starting with lithium cobalt oxide! \n",
    "LiCoO2 follows this reaction during delithiation (de-intercalation):\n",
    "\n",
    "$$\\text{LiCoO}_2 \\rightarrow \\text{CoO}_2 + \\text{Li}^+ + e^-$$\n",
    "\n",
    "Following these steps, the code below shows that LiCoO2 has a specific capacity of 273.8 mAh/g\n",
    "1. What are the molar masses of each element?\n",
    "2. What is the molar mass of the entire lithiated material?\n",
    "3. Apply Faraday's Law to calculate the theoretical capacity:\n",
    "\n"
   ]
  },
  {
   "cell_type": "code",
   "execution_count": 4,
   "metadata": {},
   "outputs": [
    {
     "name": "stdout",
     "output_type": "stream",
     "text": [
      "LiCoO2 theoretical gravimetric capacity: \n",
      "\n",
      "273.84 mAh/g\n"
     ]
    }
   ],
   "source": [
    "# 1. What are the molar masses of each element?\n",
    "#----------------------------------------------------------------\n",
    "Li = 6.941 #g\n",
    "Co = 58.933 #g\n",
    "O = 15.999 #g\n",
    "\n",
    "# 2. What is the molar mass of the entire lithiated material?\n",
    "#----------------------------------------------------------------\n",
    "LCO = Li + Co + 2*O  #molecular mass of LiCoO2 (LCO)\n",
    "\n",
    "# 3. Apply Faraday's Law to calculate the theoretical capacity:\n",
    "#----------------------------------------------------------------\n",
    "n = 1 #Lithium has a valence of +1\n",
    "F = 96485 #C/mol\n",
    "\n",
    "Q_grav = (n*F/LCO)*(1/3600)*1000 #Faradays law equation!\n",
    "\n",
    "#Displaying answer\n",
    "print('LiCoO2 theoretical gravimetric capacity: \\n')\n",
    "print(str(round(Q_grav,2)) + ' mAh/g')"
   ]
  },
  {
   "cell_type": "markdown",
   "metadata": {},
   "source": [
    "## Try some other chemical formulae:\n",
    "`theorycap` is a function that will convert a material formula into its theoretical capacity, try:\n",
    "\n",
    "* LiCoO2\n",
    "* LiFePO4\n",
    "* Li(Ni0.8Mn0.1Co0.1)O2"
   ]
  },
  {
   "cell_type": "code",
   "execution_count": 8,
   "metadata": {},
   "outputs": [
    {
     "name": "stdout",
     "output_type": "stream",
     "text": [
      "169.89 mAh/g\n"
     ]
    }
   ],
   "source": [
    "compound = 'LiFePO4' #Options [\"LiCoO2\", \"LiFePO4\", \"Li(Ni0.8Mn0.1Co0.1)O2\"] {allow-input: true}\n",
    "n = 1 #equivalence\n",
    "Q_grav = fn.theorycap(compound,n)\n",
    "Q_grav #mAh/g\n",
    "print(str(round(Q_grav,2)) + ' mAh/g')"
   ]
  },
  {
   "cell_type": "markdown",
   "metadata": {},
   "source": [
    "## Import some data on active materials"
   ]
  },
  {
   "cell_type": "code",
   "execution_count": 10,
   "metadata": {},
   "outputs": [
    {
     "data": {
      "text/html": [
       "<div>\n",
       "<style scoped>\n",
       "    .dataframe tbody tr th:only-of-type {\n",
       "        vertical-align: middle;\n",
       "    }\n",
       "\n",
       "    .dataframe tbody tr th {\n",
       "        vertical-align: top;\n",
       "    }\n",
       "\n",
       "    .dataframe thead th {\n",
       "        text-align: right;\n",
       "    }\n",
       "</style>\n",
       "<table border=\"1\" class=\"dataframe\">\n",
       "  <thead>\n",
       "    <tr style=\"text-align: right;\">\n",
       "      <th></th>\n",
       "      <th>name</th>\n",
       "      <th>name_long</th>\n",
       "      <th>formula</th>\n",
       "      <th>type</th>\n",
       "      <th>cap</th>\n",
       "      <th>V</th>\n",
       "      <th>n</th>\n",
       "      <th>density</th>\n",
       "      <th>theorycap</th>\n",
       "    </tr>\n",
       "  </thead>\n",
       "  <tbody>\n",
       "    <tr>\n",
       "      <th>0</th>\n",
       "      <td>NCA</td>\n",
       "      <td>lithium nickel cobalt aluminium oxide</td>\n",
       "      <td>Li(Ni0.8Co0.15Al0.05)O2</td>\n",
       "      <td>cathode</td>\n",
       "      <td>210</td>\n",
       "      <td>3.860</td>\n",
       "      <td>1</td>\n",
       "      <td>4.850</td>\n",
       "      <td>279</td>\n",
       "    </tr>\n",
       "    <tr>\n",
       "      <th>1</th>\n",
       "      <td>LCO</td>\n",
       "      <td>lithium cobalt oxide</td>\n",
       "      <td>LiCoO2</td>\n",
       "      <td>cathode</td>\n",
       "      <td>165</td>\n",
       "      <td>3.860</td>\n",
       "      <td>1</td>\n",
       "      <td>5.100</td>\n",
       "      <td>274</td>\n",
       "    </tr>\n",
       "    <tr>\n",
       "      <th>2</th>\n",
       "      <td>LFP</td>\n",
       "      <td>lithium iron phosphate</td>\n",
       "      <td>LiFePO4</td>\n",
       "      <td>cathode</td>\n",
       "      <td>160</td>\n",
       "      <td>3.375</td>\n",
       "      <td>1</td>\n",
       "      <td>3.600</td>\n",
       "      <td>170</td>\n",
       "    </tr>\n",
       "    <tr>\n",
       "      <th>3</th>\n",
       "      <td>NMC622</td>\n",
       "      <td>lithium nickel manganese colbalt oxide</td>\n",
       "      <td>Li(Ni0.6Mn0.2Co0.2)O2</td>\n",
       "      <td>cathode</td>\n",
       "      <td>181</td>\n",
       "      <td>3.860</td>\n",
       "      <td>1</td>\n",
       "      <td>4.700</td>\n",
       "      <td>277</td>\n",
       "    </tr>\n",
       "    <tr>\n",
       "      <th>4</th>\n",
       "      <td>NMC811</td>\n",
       "      <td>lithium nickel manganese colbalt oxide</td>\n",
       "      <td>Li(Ni0.8Mn0.1Co0.1)O2</td>\n",
       "      <td>cathode</td>\n",
       "      <td>195</td>\n",
       "      <td>3.860</td>\n",
       "      <td>1</td>\n",
       "      <td>4.700</td>\n",
       "      <td>276</td>\n",
       "    </tr>\n",
       "    <tr>\n",
       "      <th>5</th>\n",
       "      <td>LTO</td>\n",
       "      <td>lithium titanate</td>\n",
       "      <td>Ti5O12</td>\n",
       "      <td>anode</td>\n",
       "      <td>167</td>\n",
       "      <td>1.550</td>\n",
       "      <td>3</td>\n",
       "      <td>3.430</td>\n",
       "      <td>186</td>\n",
       "    </tr>\n",
       "    <tr>\n",
       "      <th>6</th>\n",
       "      <td>Gr</td>\n",
       "      <td>graphite</td>\n",
       "      <td>C6</td>\n",
       "      <td>anode</td>\n",
       "      <td>344</td>\n",
       "      <td>0.170</td>\n",
       "      <td>1</td>\n",
       "      <td>2.240</td>\n",
       "      <td>372</td>\n",
       "    </tr>\n",
       "    <tr>\n",
       "      <th>7</th>\n",
       "      <td>Li</td>\n",
       "      <td>lithium metal</td>\n",
       "      <td>Li</td>\n",
       "      <td>anode</td>\n",
       "      <td>3862</td>\n",
       "      <td>0.000</td>\n",
       "      <td>1</td>\n",
       "      <td>0.534</td>\n",
       "      <td>3861</td>\n",
       "    </tr>\n",
       "    <tr>\n",
       "      <th>8</th>\n",
       "      <td>Si</td>\n",
       "      <td>silicon</td>\n",
       "      <td>Si</td>\n",
       "      <td>anode</td>\n",
       "      <td>2200</td>\n",
       "      <td>0.400</td>\n",
       "      <td>4</td>\n",
       "      <td>2.300</td>\n",
       "      <td>3817</td>\n",
       "    </tr>\n",
       "  </tbody>\n",
       "</table>\n",
       "</div>"
      ],
      "text/plain": [
       "     name                               name_long                  formula  \\\n",
       "0     NCA   lithium nickel cobalt aluminium oxide  Li(Ni0.8Co0.15Al0.05)O2   \n",
       "1     LCO                    lithium cobalt oxide                   LiCoO2   \n",
       "2     LFP                  lithium iron phosphate                  LiFePO4   \n",
       "3  NMC622  lithium nickel manganese colbalt oxide    Li(Ni0.6Mn0.2Co0.2)O2   \n",
       "4  NMC811  lithium nickel manganese colbalt oxide    Li(Ni0.8Mn0.1Co0.1)O2   \n",
       "5     LTO                        lithium titanate                   Ti5O12   \n",
       "6      Gr                                graphite                       C6   \n",
       "7      Li                           lithium metal                       Li   \n",
       "8      Si                                 silicon                       Si   \n",
       "\n",
       "      type   cap      V  n  density  theorycap  \n",
       "0  cathode   210  3.860  1    4.850        279  \n",
       "1  cathode   165  3.860  1    5.100        274  \n",
       "2  cathode   160  3.375  1    3.600        170  \n",
       "3  cathode   181  3.860  1    4.700        277  \n",
       "4  cathode   195  3.860  1    4.700        276  \n",
       "5    anode   167  1.550  3    3.430        186  \n",
       "6    anode   344  0.170  1    2.240        372  \n",
       "7    anode  3862  0.000  1    0.534       3861  \n",
       "8    anode  2200  0.400  4    2.300       3817  "
      ]
     },
     "execution_count": 10,
     "metadata": {},
     "output_type": "execute_result"
    }
   ],
   "source": [
    "df = pd.read_csv('activesDB.csv')\n",
    "df"
   ]
  },
  {
   "cell_type": "markdown",
   "metadata": {},
   "source": [
    "## Plot some theoretical capacities to make comparisons"
   ]
  },
  {
   "cell_type": "code",
   "execution_count": 13,
   "metadata": {},
   "outputs": [
    {
     "data": {
      "image/png": "[encoded data removed]",
      "text/plain": [
       "<Figure size 1080x432 with 1 Axes>"
      ]
     },
     "metadata": {
      "needs_background": "light"
     },
     "output_type": "display_data"
    }
   ],
   "source": [
    "Material = 'cathode' #@param [\"cathode\", \"anode\"]\n",
    "mat_list = df.index\n",
    "theoretical_cap = []\n",
    "for i in mat_list:\n",
    "    n = df.loc[i].n\n",
    "    compound = df.loc[i].formula\n",
    "    cap = fn.theorycap(compound,n)\n",
    "    theoretical_cap.append(cap)\n",
    "    \n",
    "df['theoretical_cap [mAh/g]'] = theoretical_cap\n",
    "# df\n",
    "\n",
    "# Query and Sort\n",
    "df_material = df[df[\"type\"]==Material]\n",
    "df_material = df_material.sort_values(by=['theoretical_cap [mAh/g]'])\n",
    "# df_material\n",
    "\n",
    "mat_list = df_material.name\n",
    "mat_cap = df_material[\"theoretical_cap [mAh/g]\"]\n",
    "\n",
    "#Plot on a bar chart\n",
    "import matplotlib.pyplot as plt\n",
    "import numpy as np\n",
    "%matplotlib inline\n",
    "plt.figure(figsize=(15,6))\n",
    "x_pos = np.linspace(0,len(mat_list),len(mat_list))*1.3 #spacing on x axis\n",
    "plt.bar(x_pos, mat_cap, color='green')\n",
    "plt.xlabel(\"Material\",fontsize=15)\n",
    "plt.ylabel(\"Specific capacity [mAh/g]\",fontsize=15)\n",
    "title_string = string_in_string = \"{} theoretical capacities\".format(Material.title())\n",
    "plt.title(title_string,fontsize=15,fontweight='bold')\n",
    "plt.xticks(x_pos, mat_list,fontsize=15)\n",
    "plt.yticks(fontsize=15)\n",
    "plt.show()"
   ]
  },
  {
   "cell_type": "markdown",
   "metadata": {},
   "source": [
    "# Conclusion\n",
    "\n",
    "* In real life materials, not all of the lithium is extracted and so the true reversible capacity achievable is considerably lower. This is because cycling 100% of theoretical capacity causes severe degradation. For example, LCO (LiCoO2) practical capacities are around 165 mAh/g, or around 60% of the theoretical limit. We shall take this into consideration in future analyses. \n",
    "\n",
    "* We can also see why LFP is considered a lower capacity material than NMC. It also shows that the automotive trends of increasing the nickel content actually reduces the specific capacity (a little bit) but is done to improve rate capability and cycle stability.\n",
    "\n",
    "* Next time, we'll look at the voltages that each material provides, which will allow us to compare the energy densities. \n",
    "\n",
    "**Please consider supporting Intercalation and BotB with a subscription. We'll work through some interesting case studies in the near future!**\n",
    "\n",
    "[Subscribe Now!](https://intercalationstation.substack.com/publish/post/%%checkout_url%%)\n",
    "\n"
   ]
  },
  {
   "cell_type": "code",
   "execution_count": null,
   "metadata": {},
   "outputs": [],
   "source": []
  }
 ],
 "metadata": {
  "kernelspec": {
   "display_name": "Python 3",
   "language": "python",
   "name": "python3"
  },
  "language_info": {
   "codemirror_mode": {
    "name": "ipython",
    "version": 3
   },
   "file_extension": ".py",
   "mimetype": "text/x-python",
   "name": "python",
   "nbconvert_exporter": "python",
   "pygments_lexer": "ipython3",
   "version": "3.7.6"
  }
 },
 "nbformat": 4,
 "nbformat_minor": 4
}
