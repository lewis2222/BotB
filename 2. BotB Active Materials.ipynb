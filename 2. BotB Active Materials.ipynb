{
 "cells": [
  {
   "cell_type": "markdown",
   "metadata": {},
   "source": [
    "# __Back of the Battery Calculator__\n",
    "---\n",
    "# __2. Active Materials__\n",
    "\n",
    "#### Copyright © Intercalation Ltd. All rights reserved.\n",
    "\n",
    "<div>\n",
    "<img src=\"images/fig_botb.png\" width=\"800\">\n",
    "</div>\n",
    "\n",
    "\n",
    "\n",
    "\n",
    "In the [first installment](https://intercalationstation.substack.com/p/botb-1-introduction-and-capacity) of our BotB series, we introduced the calculation of theoretical capacities of different electrode materials based on their molar masses.\n",
    "\n",
    "We also covered some existing cell models, and since then, [Matt Lacey](http://lacey.se/) has shared his very useful [CellModel](https://github.com/mjlacey/cellmodels) along with some very interesting case studies.\n",
    "\n",
    "<blockquote class=\"twitter-tweet\"><p lang=\"en\" dir=\"ltr\">For my interest: how many out there are interested in doing this sort of basic cell property modelling themselves? The code is not secret, so I could e.g. share it on Github with a bunch of Jupyter Notebook examples. I find it a useful reality check at least. Comment below... <a href=\"https://t.co/ySd7jj16zy\">https://t.co/ySd7jj16zy</a></p>&mdash; Matt Lacey (@mjlacey) <a href=\"https://twitter.com/mjlacey/status/1427545083063250946?ref_src=twsrc%5Etfw\">August 17, 2021</a></blockquote> <script async src=\"https://platform.twitter.com/widgets.js\" charset=\"utf-8\"></script>\n",
    "\n",
    "\n",
    "<blockquote class=\"twitter-tweet\"><p lang=\"en\" dir=\"ltr\">Thanks to those who positively responded! Happy therefore to share my cell model code here: <a href=\"https://t.co/kGwdzZF30b\">https://t.co/kGwdzZF30b</a><br><br>So far I have made 1 &#39;quickstart&#39; example of how to build a model similar to that nested in these quote tweets, and more to come later. To quickly summarise: 1/ <a href=\"https://t.co/MW1qrCRX4e\">https://t.co/MW1qrCRX4e</a></p>&mdash; Matt Lacey (@mjlacey) <a href=\"https://twitter.com/mjlacey/status/1427686001510653957?ref_src=twsrc%5Etfw\">August 17, 2021</a></blockquote> <script async src=\"https://platform.twitter.com/widgets.js\" charset=\"utf-8\"></script>\n",
    "\n",
    "Based on Matt's flexible CellModel in Julia, we'll use BotB to deconstruct the properties and makeup of each component of a cell before building up our model in Python. Instead of using [Colab](https://colab.research.google.com/) we'll assemble the backend of the model and add an interactive UI for it very soon, so make sure you support Intercalation Station by hitting that ***[subscribe!](https://intercalationstation.substack.com/subscribe)***\n",
    "\n",
    "---\n",
    "## BotB Plan\n",
    "1. Theoretical capacities [[link]](https://intercalationstation.substack.com/p/botb-1-introduction-and-capacity)\n",
    "2. Active materials\n",
    "3. Cell sandwich layers\n",
    "4. Winding a cylindrical cell\n",
    "5. Stacking a pouch cell\n",
    "6. Prismatic cells\n",
    "7. tbd\n",
    "---\n",
    "\n",
    "## Outline for BotB 2:\n",
    "* A) Comparing practical and theoretical capacities of active materials\n",
    "* B) Active material average discharge voltages\n",
    "* C) Visualizing voltage and capacity together\n",
    "* D) Defining an active material\n",
    "* E) Defining an electrode composite\n",
    "---"
   ]
  },
  {
   "cell_type": "code",
   "execution_count": 22,
   "metadata": {},
   "outputs": [],
   "source": [
    "#Import standard packages\n",
    "import numpy as np\n",
    "import pandas as pd\n",
    "import matplotlib.pyplot as plt\n",
    "from matplotlib.pyplot import figure\n",
    "\n",
    "#Unit & uncertainty management\n",
    "from pint import UnitRegistry\n",
    "unit = UnitRegistry()\n",
    "from uncertainties import ufloat\n",
    "\n",
    "#Dictionaries with dot notation\n",
    "from dotmap import DotMap\n",
    "\n",
    "#Functions created for assembling electrode structures\n",
    "from BotB_functions.fn import make_active\n",
    "from BotB_functions.fn import make_composite\n",
    "from BotB_functions.fn import print_struct"
   ]
  },
  {
   "cell_type": "markdown",
   "metadata": {},
   "source": [
    "## A) Theoretical vs practical capacities\n",
    "\n",
    "Actual reversible capacity is typically lower. For energy density, the higher the better for both anodes and cathodes\n",
    "\n",
    "* Practical specific capacity [mAh/g]\n",
    "* Theoretical specific capacity [mAh/g]\n",
    "* Average voltage [V]\n",
    "* Crystallographic density [g/cm3]\n",
    "\n",
    "Again we can first import the active materials database:"
   ]
  },
  {
   "cell_type": "code",
   "execution_count": 23,
   "metadata": {},
   "outputs": [
    {
     "data": {
      "text/html": [
       "<div>\n",
       "<style scoped>\n",
       "    .dataframe tbody tr th:only-of-type {\n",
       "        vertical-align: middle;\n",
       "    }\n",
       "\n",
       "    .dataframe tbody tr th {\n",
       "        vertical-align: top;\n",
       "    }\n",
       "\n",
       "    .dataframe thead th {\n",
       "        text-align: right;\n",
       "    }\n",
       "</style>\n",
       "<table border=\"1\" class=\"dataframe\">\n",
       "  <thead>\n",
       "    <tr style=\"text-align: right;\">\n",
       "      <th></th>\n",
       "      <th>name</th>\n",
       "      <th>name_long</th>\n",
       "      <th>formula</th>\n",
       "      <th>type</th>\n",
       "      <th>cap</th>\n",
       "      <th>V</th>\n",
       "      <th>n</th>\n",
       "      <th>density</th>\n",
       "      <th>theorycap</th>\n",
       "    </tr>\n",
       "  </thead>\n",
       "  <tbody>\n",
       "    <tr>\n",
       "      <th>0</th>\n",
       "      <td>NCA</td>\n",
       "      <td>lithium nickel cobalt aluminium oxide</td>\n",
       "      <td>Li(Ni0.8Co0.15Al0.05)O2</td>\n",
       "      <td>cathode</td>\n",
       "      <td>210</td>\n",
       "      <td>3.860</td>\n",
       "      <td>1</td>\n",
       "      <td>4.850</td>\n",
       "      <td>279</td>\n",
       "    </tr>\n",
       "    <tr>\n",
       "      <th>1</th>\n",
       "      <td>LCO</td>\n",
       "      <td>lithium cobalt oxide</td>\n",
       "      <td>LiCoO2</td>\n",
       "      <td>cathode</td>\n",
       "      <td>165</td>\n",
       "      <td>3.860</td>\n",
       "      <td>1</td>\n",
       "      <td>5.100</td>\n",
       "      <td>274</td>\n",
       "    </tr>\n",
       "    <tr>\n",
       "      <th>2</th>\n",
       "      <td>LFP</td>\n",
       "      <td>lithium iron phosphate</td>\n",
       "      <td>LiFePO4</td>\n",
       "      <td>cathode</td>\n",
       "      <td>160</td>\n",
       "      <td>3.375</td>\n",
       "      <td>1</td>\n",
       "      <td>3.600</td>\n",
       "      <td>170</td>\n",
       "    </tr>\n",
       "    <tr>\n",
       "      <th>3</th>\n",
       "      <td>NMC622</td>\n",
       "      <td>lithium nickel manganese colbalt oxide</td>\n",
       "      <td>Li(Ni0.6Mn0.2Co0.2)O2</td>\n",
       "      <td>cathode</td>\n",
       "      <td>181</td>\n",
       "      <td>3.860</td>\n",
       "      <td>1</td>\n",
       "      <td>4.700</td>\n",
       "      <td>277</td>\n",
       "    </tr>\n",
       "    <tr>\n",
       "      <th>4</th>\n",
       "      <td>NMC811</td>\n",
       "      <td>lithium nickel manganese colbalt oxide</td>\n",
       "      <td>Li(Ni0.8Mn0.1Co0.1)O2</td>\n",
       "      <td>cathode</td>\n",
       "      <td>195</td>\n",
       "      <td>3.860</td>\n",
       "      <td>1</td>\n",
       "      <td>4.700</td>\n",
       "      <td>276</td>\n",
       "    </tr>\n",
       "    <tr>\n",
       "      <th>5</th>\n",
       "      <td>LTO</td>\n",
       "      <td>lithium titanate</td>\n",
       "      <td>Ti5O12</td>\n",
       "      <td>anode</td>\n",
       "      <td>167</td>\n",
       "      <td>1.550</td>\n",
       "      <td>3</td>\n",
       "      <td>3.430</td>\n",
       "      <td>186</td>\n",
       "    </tr>\n",
       "    <tr>\n",
       "      <th>6</th>\n",
       "      <td>Gr</td>\n",
       "      <td>graphite</td>\n",
       "      <td>C6</td>\n",
       "      <td>anode</td>\n",
       "      <td>344</td>\n",
       "      <td>0.170</td>\n",
       "      <td>1</td>\n",
       "      <td>2.240</td>\n",
       "      <td>372</td>\n",
       "    </tr>\n",
       "    <tr>\n",
       "      <th>7</th>\n",
       "      <td>Li</td>\n",
       "      <td>lithium metal</td>\n",
       "      <td>Li</td>\n",
       "      <td>anode</td>\n",
       "      <td>3862</td>\n",
       "      <td>0.000</td>\n",
       "      <td>1</td>\n",
       "      <td>0.534</td>\n",
       "      <td>3861</td>\n",
       "    </tr>\n",
       "    <tr>\n",
       "      <th>8</th>\n",
       "      <td>Si</td>\n",
       "      <td>silicon</td>\n",
       "      <td>Si</td>\n",
       "      <td>anode</td>\n",
       "      <td>2200</td>\n",
       "      <td>0.400</td>\n",
       "      <td>4</td>\n",
       "      <td>2.300</td>\n",
       "      <td>3817</td>\n",
       "    </tr>\n",
       "  </tbody>\n",
       "</table>\n",
       "</div>"
      ],
      "text/plain": [
       "     name                               name_long                  formula  \\\n",
       "0     NCA   lithium nickel cobalt aluminium oxide  Li(Ni0.8Co0.15Al0.05)O2   \n",
       "1     LCO                    lithium cobalt oxide                   LiCoO2   \n",
       "2     LFP                  lithium iron phosphate                  LiFePO4   \n",
       "3  NMC622  lithium nickel manganese colbalt oxide    Li(Ni0.6Mn0.2Co0.2)O2   \n",
       "4  NMC811  lithium nickel manganese colbalt oxide    Li(Ni0.8Mn0.1Co0.1)O2   \n",
       "5     LTO                        lithium titanate                   Ti5O12   \n",
       "6      Gr                                graphite                       C6   \n",
       "7      Li                           lithium metal                       Li   \n",
       "8      Si                                 silicon                       Si   \n",
       "\n",
       "      type   cap      V  n  density  theorycap  \n",
       "0  cathode   210  3.860  1    4.850        279  \n",
       "1  cathode   165  3.860  1    5.100        274  \n",
       "2  cathode   160  3.375  1    3.600        170  \n",
       "3  cathode   181  3.860  1    4.700        277  \n",
       "4  cathode   195  3.860  1    4.700        276  \n",
       "5    anode   167  1.550  3    3.430        186  \n",
       "6    anode   344  0.170  1    2.240        372  \n",
       "7    anode  3862  0.000  1    0.534       3861  \n",
       "8    anode  2200  0.400  4    2.300       3817  "
      ]
     },
     "execution_count": 23,
     "metadata": {},
     "output_type": "execute_result"
    }
   ],
   "source": [
    "df = pd.read_csv('activesDB.csv')\n",
    "df"
   ]
  },
  {
   "cell_type": "markdown",
   "metadata": {},
   "source": [
    "Comparing the theoretical vs practical capacities for cathode active materials:"
   ]
  },
  {
   "cell_type": "code",
   "execution_count": 24,
   "metadata": {},
   "outputs": [
    {
     "data": {
      "text/html": [
       "<div>\n",
       "<style scoped>\n",
       "    .dataframe tbody tr th:only-of-type {\n",
       "        vertical-align: middle;\n",
       "    }\n",
       "\n",
       "    .dataframe tbody tr th {\n",
       "        vertical-align: top;\n",
       "    }\n",
       "\n",
       "    .dataframe thead th {\n",
       "        text-align: right;\n",
       "    }\n",
       "</style>\n",
       "<table border=\"1\" class=\"dataframe\">\n",
       "  <thead>\n",
       "    <tr style=\"text-align: right;\">\n",
       "      <th></th>\n",
       "      <th>Name</th>\n",
       "      <th>Practical capacity [mAh.g-1]</th>\n",
       "      <th>Theoretical capacity [mAh.g-1]</th>\n",
       "    </tr>\n",
       "  </thead>\n",
       "  <tbody>\n",
       "    <tr>\n",
       "      <th>0</th>\n",
       "      <td>NCA</td>\n",
       "      <td>210</td>\n",
       "      <td>279</td>\n",
       "    </tr>\n",
       "    <tr>\n",
       "      <th>1</th>\n",
       "      <td>LCO</td>\n",
       "      <td>165</td>\n",
       "      <td>274</td>\n",
       "    </tr>\n",
       "    <tr>\n",
       "      <th>2</th>\n",
       "      <td>LFP</td>\n",
       "      <td>160</td>\n",
       "      <td>170</td>\n",
       "    </tr>\n",
       "    <tr>\n",
       "      <th>3</th>\n",
       "      <td>NMC622</td>\n",
       "      <td>181</td>\n",
       "      <td>277</td>\n",
       "    </tr>\n",
       "    <tr>\n",
       "      <th>4</th>\n",
       "      <td>NMC811</td>\n",
       "      <td>195</td>\n",
       "      <td>276</td>\n",
       "    </tr>\n",
       "  </tbody>\n",
       "</table>\n",
       "</div>"
      ],
      "text/plain": [
       "     Name  Practical capacity [mAh.g-1]  Theoretical capacity [mAh.g-1]\n",
       "0     NCA                           210                             279\n",
       "1     LCO                           165                             274\n",
       "2     LFP                           160                             170\n",
       "3  NMC622                           181                             277\n",
       "4  NMC811                           195                             276"
      ]
     },
     "execution_count": 24,
     "metadata": {},
     "output_type": "execute_result"
    }
   ],
   "source": [
    "capdf = df[df.type=='cathode'][['name','cap','theorycap']]\n",
    "capdf.columns = ['Name', 'Practical capacity [mAh.g-1]','Theoretical capacity [mAh.g-1]']\n",
    "capdf"
   ]
  },
  {
   "cell_type": "markdown",
   "metadata": {},
   "source": [
    "## B) Active material voltages\n",
    "\n",
    "* Average voltage also matters because the cell voltage is given by the difference between the cathode and anode voltage \n",
    "* This voltage is used to calculate how much energy is provided, not just charge in a battery\n",
    "* We plot anodes below, for anodes the lower the average voltage, the higher the overall cell voltage becomes so lower the better\n",
    "\n",
    "Comparing the average voltage for anode active materials:"
   ]
  },
  {
   "cell_type": "code",
   "execution_count": 25,
   "metadata": {},
   "outputs": [
    {
     "data": {
      "text/html": [
       "<div>\n",
       "<style scoped>\n",
       "    .dataframe tbody tr th:only-of-type {\n",
       "        vertical-align: middle;\n",
       "    }\n",
       "\n",
       "    .dataframe tbody tr th {\n",
       "        vertical-align: top;\n",
       "    }\n",
       "\n",
       "    .dataframe thead th {\n",
       "        text-align: right;\n",
       "    }\n",
       "</style>\n",
       "<table border=\"1\" class=\"dataframe\">\n",
       "  <thead>\n",
       "    <tr style=\"text-align: right;\">\n",
       "      <th></th>\n",
       "      <th>Name</th>\n",
       "      <th>Average voltage [V]</th>\n",
       "    </tr>\n",
       "  </thead>\n",
       "  <tbody>\n",
       "    <tr>\n",
       "      <th>5</th>\n",
       "      <td>LTO</td>\n",
       "      <td>1.55</td>\n",
       "    </tr>\n",
       "    <tr>\n",
       "      <th>6</th>\n",
       "      <td>Gr</td>\n",
       "      <td>0.17</td>\n",
       "    </tr>\n",
       "    <tr>\n",
       "      <th>7</th>\n",
       "      <td>Li</td>\n",
       "      <td>0.00</td>\n",
       "    </tr>\n",
       "    <tr>\n",
       "      <th>8</th>\n",
       "      <td>Si</td>\n",
       "      <td>0.40</td>\n",
       "    </tr>\n",
       "  </tbody>\n",
       "</table>\n",
       "</div>"
      ],
      "text/plain": [
       "  Name  Average voltage [V]\n",
       "5  LTO                 1.55\n",
       "6   Gr                 0.17\n",
       "7   Li                 0.00\n",
       "8   Si                 0.40"
      ]
     },
     "execution_count": 25,
     "metadata": {},
     "output_type": "execute_result"
    }
   ],
   "source": [
    "Vdf = df[df.type=='anode'][['name','V']]\n",
    "Vdf.columns = ['Name', 'Average voltage [V]']\n",
    "Vdf"
   ]
  },
  {
   "cell_type": "markdown",
   "metadata": {},
   "source": [
    "## C) Visualizing capacity and voltage together\n",
    "* For cathodes we want to choose one towards the top right of the plot to maximize cell energy\n",
    "* For anodes we want to choose one towards the bottom right to maximize cell energy\n",
    "* Other considerations come into play when actually pairing active materials for a cell, like rate capability and safety etc.\n"
   ]
  },
  {
   "cell_type": "code",
   "execution_count": 26,
   "metadata": {},
   "outputs": [
    {
     "data": {
      "image/png": "[encoded data removed]",
      "text/plain": [
       "<Figure size 1440x600 with 2 Axes>"
      ]
     },
     "metadata": {
      "needs_background": "light"
     },
     "output_type": "display_data"
    }
   ],
   "source": [
    "#Plot settings\n",
    "fontsize = 10\n",
    "figsz = (12,5)\n",
    "dpi = 120\n",
    "figure(figsize=figsz, dpi=dpi)\n",
    "df = pd.read_csv('activesDB.csv')\n",
    "\n",
    "#Plot cathode actives\n",
    "ax = plt.subplot(1, 2, 1)\n",
    "ax.scatter(df[df.type == 'cathode'].theorycap,df[df.type == 'cathode'].V,200,alpha = 0.2,color = 'r',label='theoretical')\n",
    "ax.scatter(df[df.type == 'cathode'].cap,df[df.type == 'cathode'].V,200,alpha = 0.5,color = 'r',label='practical')\n",
    "for i, txt in enumerate(df[df.type == 'cathode'].name):\n",
    "    ax.annotate(txt, (df[df.type == 'cathode'].cap[i], 0.04+df[df.type == 'cathode'].V[i]))\n",
    "plt.title('Cathode materials')\n",
    "plt.xlabel('Specific capacity [mAh.g-1]',fontsize=fontsize)\n",
    "plt.ylabel('Average voltage [V]',fontsize=fontsize)\n",
    "plt.xticks(fontsize=fontsize)\n",
    "plt.yticks(fontsize=fontsize)\n",
    "# plt.xlim([150,400])\n",
    "plt.ylim([3.3,4])\n",
    "plt.legend(fontsize=fontsize,loc='lower right')\n",
    "plt.grid(True)\n",
    "\n",
    "#Plot anode actives\n",
    "ax = plt.subplot(1, 2, 2)\n",
    "ax.scatter(df[df.type == 'anode'].theorycap,df[df.type == 'anode'].V,200,alpha = 0.2,color = 'b',label='theoretical')\n",
    "ax.scatter(df[df.type == 'anode'].cap,df[df.type == 'anode'].V,200,alpha = 0.5,color = 'b',label='practical')\n",
    "for i, txt in enumerate(df[df.type == 'anode'].name):\n",
    "    ax.annotate(txt,(df[df.type == 'anode'].cap.to_numpy()[i], 0.09+df[df.type == 'anode'].V.to_numpy()[i]))\n",
    "plt.title('Anode materials')\n",
    "plt.xlabel('Specific capacity [mAh.g-1]',fontsize=fontsize)\n",
    "plt.ylabel('Average voltage [V]',fontsize=fontsize)\n",
    "plt.xticks(fontsize=fontsize)\n",
    "plt.yticks(fontsize=fontsize)\n",
    "# plt.xlim([150,400])\n",
    "plt.ylim([-0.1,2])\n",
    "plt.legend(fontsize=fontsize)\n",
    "plt.grid(True)\n",
    "plt.show()"
   ]
  },
  {
   "cell_type": "markdown",
   "metadata": {},
   "source": [
    "\n",
    "---\n",
    "# Active materials & electrode composites\n",
    "\n",
    "For our actual cell model, our components will come together following the same structure used by Matt Lacey, where (+/-) denotes the positive or negative electrode:\n",
    "\n",
    "```\n",
    "Cell\n",
    "    - Electrode (+)\n",
    "        - Electrode composite (+)\n",
    "            - Active material (+)\n",
    "        - Current collector (+)\n",
    "    - Electrode (-)\n",
    "        - Electrode composite (-)\n",
    "            - Active material (-)\n",
    "        - Current collector (-)\n",
    "    - Separator\n",
    "    - Electrolyte\n",
    "```\n",
    "\n",
    "As positive and negative electrodes both have a capacity, the limiting capacity is the overall capacity of the cell. The cell voltage also comes from the potential difference between the positive and negative active material average voltages. To make assembling the cell components easier, we will make each component into its own structure. \n",
    "\n",
    "The active material refers to an actual crystal of the chemistry that is storing the lithium. Active materials have these following properties:\n",
    "\n",
    "* **Active material**\n",
    "    * name\n",
    "    * specific capacity [mAh/g]\n",
    "    * average voltage [V]\n",
    "    * crystallographic density [g/cm3]\n",
    "\n",
    "The electrode composite is the actual powdered coating of active materials. Because it is a powdered coating it has porosity and non-active binders etc that reduce the overall density and capacity of the actual coating. The electrode composite has these properties:\n",
    "\n",
    "* **Electrode composite**\n",
    "    * active material\n",
    "    * thickness [um]\n",
    "    * areal capacity [mAh/cm2]\n",
    "    * active loading [g/cm2]\n",
    "    * active fraction\n",
    "    * porosity\n",
    "    * composite_density [g/cm3]\n",
    "\n",
    "Adrian Yao's substack post on [The Li(ttle) ion that could](https://honestenergy.substack.com/p/the-little-ion-that-could) has a great sketch that we can highlight to see what is considered an **\"active material\"** and what is the overall electrode **\"composite\"**:\n",
    "\n",
    "<div>\n",
    "<img src=\"images/fig1_active_composite.png\" width=\"800\">\n",
    "</div>\n"
   ]
  },
  {
   "cell_type": "markdown",
   "metadata": {},
   "source": [
    "---\n",
    "Lets look at the properties for an NCA active material:"
   ]
  },
  {
   "cell_type": "code",
   "execution_count": 17,
   "metadata": {},
   "outputs": [
    {
     "data": {
      "text/html": [
       "<div>\n",
       "<style scoped>\n",
       "    .dataframe tbody tr th:only-of-type {\n",
       "        vertical-align: middle;\n",
       "    }\n",
       "\n",
       "    .dataframe tbody tr th {\n",
       "        vertical-align: top;\n",
       "    }\n",
       "\n",
       "    .dataframe thead th {\n",
       "        text-align: right;\n",
       "    }\n",
       "</style>\n",
       "<table border=\"1\" class=\"dataframe\">\n",
       "  <thead>\n",
       "    <tr style=\"text-align: right;\">\n",
       "      <th></th>\n",
       "      <th>name</th>\n",
       "      <th>name_long</th>\n",
       "      <th>formula</th>\n",
       "      <th>type</th>\n",
       "      <th>cap</th>\n",
       "      <th>V</th>\n",
       "      <th>n</th>\n",
       "      <th>density</th>\n",
       "      <th>theorycap</th>\n",
       "    </tr>\n",
       "  </thead>\n",
       "  <tbody>\n",
       "    <tr>\n",
       "      <th>0</th>\n",
       "      <td>NCA</td>\n",
       "      <td>lithium nickel cobalt aluminium oxide</td>\n",
       "      <td>Li(Ni0.8Co0.15Al0.05)O2</td>\n",
       "      <td>cathode</td>\n",
       "      <td>210</td>\n",
       "      <td>3.86</td>\n",
       "      <td>1</td>\n",
       "      <td>4.85</td>\n",
       "      <td>279</td>\n",
       "    </tr>\n",
       "  </tbody>\n",
       "</table>\n",
       "</div>"
      ],
      "text/plain": [
       "  name                              name_long                  formula  \\\n",
       "0  NCA  lithium nickel cobalt aluminium oxide  Li(Ni0.8Co0.15Al0.05)O2   \n",
       "\n",
       "      type  cap     V  n  density  theorycap  \n",
       "0  cathode  210  3.86  1     4.85        279  "
      ]
     },
     "execution_count": 17,
     "metadata": {},
     "output_type": "execute_result"
    }
   ],
   "source": [
    "df[df.name=='NCA']"
   ]
  },
  {
   "cell_type": "markdown",
   "metadata": {},
   "source": [
    "---\n",
    "The `make_active()` function makes a dotmap type dictionary that allows us to assign the properties for the active material. \n",
    "\n",
    "It also uses the `pint` package which allows us to embed units and the `uncertainties` package lets us propagate standard deviations.\n",
    "\n",
    "We can input the \"NCA\" active material by using the following code:"
   ]
  },
  {
   "cell_type": "code",
   "execution_count": 18,
   "metadata": {},
   "outputs": [
    {
     "name": "stdout",
     "output_type": "stream",
     "text": [
      "{\n",
      "     \"name\": \"NCA\",\n",
      "     \"speccap\": \"210.0 hour * milliampere / gram\",\n",
      "     \"avgE\": \"3.86 volt\",\n",
      "     \"density\": \"4.85 gram / centimeter ** 3\"\n",
      "}\n"
     ]
    }
   ],
   "source": [
    "#Make active struct\n",
    "NCA = make_active(name='NCA',\n",
    "                 speccap=210*unit.mA*unit.hr/unit.g, \n",
    "                 avgE=3.86*unit.V, \n",
    "                 density=4.85*unit.g/unit.cm**3,\n",
    "                 unit=unit)\n",
    "\n",
    "#See active struct\n",
    "print_struct(NCA)"
   ]
  },
  {
   "cell_type": "markdown",
   "metadata": {},
   "source": [
    "---\n",
    "The `make_composite()` function makes a dotmap type dictionary that allows us to assign the properties for the electrode composite. \n",
    "\n",
    "It also uses the `pint` package which allows us to embed units and the `uncertainties` package lets us propagate standard deviations.\n",
    "\n",
    "* `make_composite()` also lets us \"fill the gaps\", for example, if we know the areal capacity **arealcap** and composite density **density**, the other properties can automatically be calculated:\n"
   ]
  },
  {
   "cell_type": "code",
   "execution_count": 19,
   "metadata": {},
   "outputs": [
    {
     "name": "stdout",
     "output_type": "stream",
     "text": [
      "{\n",
      "     \"active\": {\n",
      "          \"name\": \"NCA\",\n",
      "          \"speccap\": \"210.0 hour * milliampere / gram\",\n",
      "          \"avgE\": \"3.86 volt\",\n",
      "          \"density\": \"4.85 gram / centimeter ** 3\"\n",
      "     },\n",
      "     \"arealcap\": \"3.5 hour * milliampere / centimeter ** 2\",\n",
      "     \"thick\": \"(50.5 +/- 1.5) micrometer\",\n",
      "     \"arealload\": \"(0.016666666666666666 +/- 0) gram / centimeter ** 2\",\n",
      "     \"activefrac\": 0.95,\n",
      "     \"porosity\": \"(0.284 +/- 0.022) dimensionless\",\n",
      "     \"density\": \"(3.30 +/- 0.10) gram / centimeter ** 3\"\n",
      "}\n"
     ]
    }
   ],
   "source": [
    "#Make NCA composite\n",
    "composite = make_composite(active=NCA, \n",
    "                           arealcap = (3.5*unit.mA*unit.hr/unit.cm**2), \n",
    "                           density = (3.3*unit.g/unit.cm**3).plus_minus(0.1),\n",
    "                           unit=unit)\n",
    "print_struct(composite)"
   ]
  },
  {
   "cell_type": "markdown",
   "metadata": {},
   "source": [
    "---\n",
    "* or if we fill `make_composite()` with the coating thickness **thick**, active fraction **activefrac**, and mass loading **arealload**, the other properties can automatically be calculated:"
   ]
  },
  {
   "cell_type": "code",
   "execution_count": 20,
   "metadata": {},
   "outputs": [
    {
     "name": "stdout",
     "output_type": "stream",
     "text": [
      "{\n",
      "     \"active\": {\n",
      "          \"name\": \"NCA\",\n",
      "          \"speccap\": \"210.0 hour * milliampere / gram\",\n",
      "          \"avgE\": \"3.86 volt\",\n",
      "          \"density\": \"4.85 gram / centimeter ** 3\"\n",
      "     },\n",
      "     \"arealcap\": \"(3.57 +/- 0.20) hour * milliampere / centimeter ** 2\",\n",
      "     \"thick\": \"(50.0 +/- 2.0) micrometer\",\n",
      "     \"arealload\": \"0.017 gram / centimeter ** 2\",\n",
      "     \"activefrac\": 0.95,\n",
      "     \"porosity\": \"(0.262 +/- 0.030) dimensionless\",\n",
      "     \"density\": \"(3.40 +/- 0.24) gram / centimeter ** 3\"\n",
      "}\n"
     ]
    }
   ],
   "source": [
    "#Make NCA composite\n",
    "composite = make_composite(active=NCA, \n",
    "                           thick = (50*unit.um).plus_minus(2), \n",
    "                           activefrac = 0.95,\n",
    "                           arealload = (0.017*unit.g/unit.cm**2),\n",
    "                           unit=unit) #works with & without error\n",
    "A = print_struct(composite)"
   ]
  },
  {
   "cell_type": "markdown",
   "metadata": {},
   "source": [
    "---\n",
    "* if we fill `make_composite()` with properties that cannot fill the gaps or clash, an error will be thrown:"
   ]
  },
  {
   "cell_type": "code",
   "execution_count": 21,
   "metadata": {},
   "outputs": [
    {
     "ename": "ValueError",
     "evalue": "Conflicting defined electrode composite properties.",
     "output_type": "error",
     "traceback": [
      "\u001b[0;31m---------------------------------------------------------------------------\u001b[0m",
      "\u001b[0;31mValueError\u001b[0m                                Traceback (most recent call last)",
      "\u001b[0;32m<ipython-input-21-157b43386ad1>\u001b[0m in \u001b[0;36m<module>\u001b[0;34m\u001b[0m\n\u001b[1;32m      4\u001b[0m                            \u001b[0marealcap\u001b[0m \u001b[0;34m=\u001b[0m \u001b[0;34m(\u001b[0m\u001b[0;36m3\u001b[0m\u001b[0;34m*\u001b[0m\u001b[0munit\u001b[0m\u001b[0;34m.\u001b[0m\u001b[0mmA\u001b[0m\u001b[0;34m*\u001b[0m\u001b[0munit\u001b[0m\u001b[0;34m.\u001b[0m\u001b[0mhr\u001b[0m\u001b[0;34m/\u001b[0m\u001b[0munit\u001b[0m\u001b[0;34m.\u001b[0m\u001b[0mcm\u001b[0m\u001b[0;34m**\u001b[0m\u001b[0;36m2\u001b[0m\u001b[0;34m)\u001b[0m\u001b[0;34m,\u001b[0m\u001b[0;34m\u001b[0m\u001b[0;34m\u001b[0m\u001b[0m\n\u001b[1;32m      5\u001b[0m                            \u001b[0marealload\u001b[0m \u001b[0;34m=\u001b[0m \u001b[0;34m(\u001b[0m\u001b[0;36m0.1\u001b[0m\u001b[0;34m*\u001b[0m\u001b[0munit\u001b[0m\u001b[0;34m.\u001b[0m\u001b[0mg\u001b[0m\u001b[0;34m/\u001b[0m\u001b[0munit\u001b[0m\u001b[0;34m.\u001b[0m\u001b[0mcm\u001b[0m\u001b[0;34m**\u001b[0m\u001b[0;36m2\u001b[0m\u001b[0;34m)\u001b[0m\u001b[0;34m,\u001b[0m\u001b[0;34m\u001b[0m\u001b[0;34m\u001b[0m\u001b[0m\n\u001b[0;32m----> 6\u001b[0;31m                            unit=unit) #works with & without error\n\u001b[0m\u001b[1;32m      7\u001b[0m \u001b[0mA\u001b[0m \u001b[0;34m=\u001b[0m \u001b[0mprint_struct\u001b[0m\u001b[0;34m(\u001b[0m\u001b[0mcomposite\u001b[0m\u001b[0;34m)\u001b[0m\u001b[0;34m\u001b[0m\u001b[0;34m\u001b[0m\u001b[0m\n\u001b[1;32m      8\u001b[0m \u001b[0mtype\u001b[0m\u001b[0;34m(\u001b[0m\u001b[0mA\u001b[0m\u001b[0;34m)\u001b[0m\u001b[0;34m\u001b[0m\u001b[0;34m\u001b[0m\u001b[0m\n",
      "\u001b[0;32m~/Dropbox/Intercalation Station/BotB Project/BotB/BotB_functions/fn.py\u001b[0m in \u001b[0;36mmake_composite\u001b[0;34m(**kwargs)\u001b[0m\n\u001b[1;32m     50\u001b[0m     \u001b[0munit\u001b[0m \u001b[0;34m=\u001b[0m \u001b[0mcomposite\u001b[0m\u001b[0;34m.\u001b[0m\u001b[0munit\u001b[0m\u001b[0;34m\u001b[0m\u001b[0;34m\u001b[0m\u001b[0m\n\u001b[1;32m     51\u001b[0m     \u001b[0mkeylist\u001b[0m \u001b[0;34m=\u001b[0m \u001b[0mlist\u001b[0m\u001b[0;34m(\u001b[0m\u001b[0mkwargs\u001b[0m\u001b[0;34m)\u001b[0m\u001b[0;34m\u001b[0m\u001b[0;34m\u001b[0m\u001b[0m\n\u001b[0;32m---> 52\u001b[0;31m     \u001b[0mcomposite\u001b[0m \u001b[0;34m=\u001b[0m \u001b[0mcomplete_composite\u001b[0m\u001b[0;34m(\u001b[0m\u001b[0mcomposite\u001b[0m\u001b[0;34m,\u001b[0m\u001b[0mkeylist\u001b[0m\u001b[0;34m,\u001b[0m\u001b[0munit\u001b[0m\u001b[0;34m)\u001b[0m\u001b[0;34m\u001b[0m\u001b[0;34m\u001b[0m\u001b[0m\n\u001b[0m\u001b[1;32m     53\u001b[0m \u001b[0;34m\u001b[0m\u001b[0m\n\u001b[1;32m     54\u001b[0m     \u001b[0;32mif\u001b[0m \u001b[0many\u001b[0m\u001b[0;34m(\u001b[0m\u001b[0mx\u001b[0m \u001b[0;34m==\u001b[0m \u001b[0;34m'missing'\u001b[0m \u001b[0;32mfor\u001b[0m \u001b[0mx\u001b[0m \u001b[0;32min\u001b[0m \u001b[0mcomposite\u001b[0m\u001b[0;34m.\u001b[0m\u001b[0mvalues\u001b[0m\u001b[0;34m(\u001b[0m\u001b[0;34m)\u001b[0m\u001b[0;34m)\u001b[0m\u001b[0;34m:\u001b[0m \u001b[0;31m#Check if any are unspecified\u001b[0m\u001b[0;34m\u001b[0m\u001b[0;34m\u001b[0m\u001b[0m\n",
      "\u001b[0;32m~/Dropbox/Intercalation Station/BotB Project/BotB/BotB_functions/fn.py\u001b[0m in \u001b[0;36mcomplete_composite\u001b[0;34m(composite, keylist, unit)\u001b[0m\n\u001b[1;32m     99\u001b[0m             \u001b[0;32mraise\u001b[0m \u001b[0mValueError\u001b[0m\u001b[0;34m(\u001b[0m\u001b[0;34m'Unspecified electrode composite properties.'\u001b[0m\u001b[0;34m)\u001b[0m\u001b[0;34m\u001b[0m\u001b[0;34m\u001b[0m\u001b[0m\n\u001b[1;32m    100\u001b[0m         \u001b[0;32melif\u001b[0m  \u001b[0mabs\u001b[0m\u001b[0;34m(\u001b[0m\u001b[0;36m1\u001b[0m\u001b[0;34m-\u001b[0m\u001b[0maverage\u001b[0m\u001b[0;34m(\u001b[0m\u001b[0;34m[\u001b[0m\u001b[0mx\u001b[0m \u001b[0;34m/\u001b[0m \u001b[0marray\u001b[0m\u001b[0;34m[\u001b[0m\u001b[0;36m0\u001b[0m\u001b[0;34m]\u001b[0m \u001b[0;32mfor\u001b[0m \u001b[0mx\u001b[0m \u001b[0;32min\u001b[0m \u001b[0marray\u001b[0m\u001b[0;34m]\u001b[0m\u001b[0;34m)\u001b[0m\u001b[0;34m)\u001b[0m\u001b[0;34m>\u001b[0m\u001b[0;36m0.001\u001b[0m\u001b[0;34m:\u001b[0m \u001b[0;31m#Different values calculated\u001b[0m\u001b[0;34m\u001b[0m\u001b[0;34m\u001b[0m\u001b[0m\n\u001b[0;32m--> 101\u001b[0;31m             \u001b[0;32mraise\u001b[0m \u001b[0mValueError\u001b[0m\u001b[0;34m(\u001b[0m\u001b[0;34m'Conflicting defined electrode composite properties.'\u001b[0m\u001b[0;34m)\u001b[0m\u001b[0;34m\u001b[0m\u001b[0;34m\u001b[0m\u001b[0m\n\u001b[0m\u001b[1;32m    102\u001b[0m         \u001b[0;32melse\u001b[0m\u001b[0;34m:\u001b[0m\u001b[0;34m\u001b[0m\u001b[0;34m\u001b[0m\u001b[0m\n\u001b[1;32m    103\u001b[0m             \u001b[0munits\u001b[0m \u001b[0;34m=\u001b[0m \u001b[0marray\u001b[0m\u001b[0;34m[\u001b[0m\u001b[0;36m0\u001b[0m\u001b[0;34m]\u001b[0m\u001b[0;34m.\u001b[0m\u001b[0munits\u001b[0m\u001b[0;34m\u001b[0m\u001b[0;34m\u001b[0m\u001b[0m\n",
      "\u001b[0;31mValueError\u001b[0m: Conflicting defined electrode composite properties."
     ]
    }
   ],
   "source": [
    "#Make NCA composite\n",
    "composite = make_composite(active=NCA, \n",
    "                           thick = (50*unit.um).plus_minus(1), \n",
    "                           arealcap = (3*unit.mA*unit.hr/unit.cm**2),\n",
    "                           arealload = (0.1*unit.g/unit.cm**2),\n",
    "                           unit=unit) #works with & without error\n",
    "A = print_struct(composite)\n",
    "type(A)"
   ]
  },
  {
   "cell_type": "markdown",
   "metadata": {},
   "source": [
    "---\n",
    "# Conclusion\n",
    "\n",
    "* Hopefully, by playing around with the `make_composite()` function we can develop some intuition in how electrode composite properties relate to each other. For example, porosity is related to the ratio between crystal density and coating density. \n",
    "\n",
    "* Next time, we'll construct the rest of the components like separator, current collectors, and electrolyte that make up the rest of the cell sandwich.\n",
    "\n",
    "**Please consider supporting Intercalation and BotB with a subscription. We'll work through some interesting case studies in the near future!**\n",
    "***[Subscribe Now!](https://intercalationstation.substack.com/publish/post/%%checkout_url%%)***\n",
    "\n"
   ]
  }
 ],
 "metadata": {
  "kernelspec": {
   "display_name": "Python 3",
   "language": "python",
   "name": "python3"
  },
  "language_info": {
   "codemirror_mode": {
    "name": "ipython",
    "version": 3
   },
   "file_extension": ".py",
   "mimetype": "text/x-python",
   "name": "python",
   "nbconvert_exporter": "python",
   "pygments_lexer": "ipython3",
   "version": "3.7.6"
  }
 },
 "nbformat": 4,
 "nbformat_minor": 4
}
