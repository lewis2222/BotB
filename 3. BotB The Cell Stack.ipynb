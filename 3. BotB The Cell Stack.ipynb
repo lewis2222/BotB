{
 "cells": [
  {
   "cell_type": "markdown",
   "metadata": {
    "tags": []
   },
   "source": [
    "# __Back of the Battery Calculator__\n",
    "---\n",
    "# __3. The Cell Stack__\n",
    "\n",
    "#### Copyright © Intercalation Ltd. All rights reserved.\n",
    "\n",
    "<div>\n",
    "<img src=\"images/fig_botb.png\" width=\"800\">\n",
    "</div>\n",
    "\n",
    "\n",
    "\n",
    "\n",
    "In the third episode of our Back of the Battery Calculator series, we're speccing out and assembling the other layers of our battery cell \"stack\". Last time we defined the properties that make up the electrode active material and electrode composite:\n",
    "\n",
    "```\n",
    "Cell\n",
    "    - Electrode (+)\n",
    "        - Electrode composite (+)\n",
    "            - Active material (+)\n",
    "        - Current collector (+)\n",
    "    - Electrode (-)\n",
    "        - Electrode composite (-)\n",
    "            - Active material (-)\n",
    "        - Current collector (-)\n",
    "    - Separator\n",
    "    - Electrolyte\n",
    "```\n",
    "\n",
    "Now we need to look at the current collectors, separator, and electrolyte too. \n",
    "\n",
    "Make sure you support Intercalation Station by hitting that ***[subscribe!](https://intercalationstation.substack.com/subscribe)***\n",
    "\n",
    "---\n",
    "## BotB Plan\n",
    "1. Theoretical capacities [[link]](https://intercalationstation.substack.com/p/botb-1-introduction-and-capacity)\n",
    "2. Active materials [[link]](https://intercalationstation.substack.com/p/botb-2-active-materials-and-electrodes)\n",
    "3. Cell sandwich layers\n",
    "4. Winding a cylindrical cell\n",
    "5. Stacking a pouch cell\n",
    "6. Prismatic cells\n",
    "7. tbd\n",
    "---\n",
    "\n",
    "## Outline for BotB 3:\n",
    "* A) Recap: defining a cathode and anode  electrode composite\n",
    "* B) Current collectors \n",
    "* C) Polymer separators\n",
    "* D) Electrolyte\n",
    "* E) Combining the stack\n",
    "---"
   ]
  },
  {
   "cell_type": "code",
   "execution_count": 35,
   "metadata": {},
   "outputs": [],
   "source": [
    "#Import standard packages\n",
    "import numpy as np\n",
    "import pandas as pd\n",
    "import matplotlib.pyplot as plt\n",
    "from matplotlib.pyplot import figure\n",
    "\n",
    "#Unit & uncertainty management\n",
    "from pint import UnitRegistry\n",
    "unit = UnitRegistry()\n",
    "from uncertainties import ufloat\n",
    "\n",
    "#Dictionaries with dot notation\n",
    "from dotmap import DotMap\n",
    "\n",
    "#Functions for BotB\n",
    "from BotB_functions.fn_cellstack import *\n",
    "from BotB_functions.fn_cellformat import *\n",
    "from BotB_functions.fn_cellanalysis import *"
   ]
  },
  {
   "cell_type": "markdown",
   "metadata": {},
   "source": [
    "---\n",
    "## A) Recap: defining a cathode and anode electrode composite\n",
    "\n",
    "Lets quickly redefine a NMC811 active material and the positive electrode composite, highlighted here in green:\n",
    "\n",
    "<div>\n",
    "<img src=\"images/botb2_f1.png\" width=\"500\">\n",
    "</div>\n",
    "\n",
    "The NMC811 active material here has 195 mAh/g of reversible capacity, an average voltage vs Li of 3.86 V, and a crystal density of 4.7 g/cm3:"
   ]
  },
  {
   "cell_type": "code",
   "execution_count": 36,
   "metadata": {},
   "outputs": [],
   "source": [
    "# Active material NMC\n",
    "NMC = make_active(name='NMC811',\n",
    "                 speccap=195*unit.mA*unit.hr/unit.g, \n",
    "                 avgE=3.86*unit.V, \n",
    "                 density=4.7*unit.g/unit.cm**3,\n",
    "                 unit=unit)"
   ]
  },
  {
   "cell_type": "markdown",
   "metadata": {},
   "source": [
    "We define the positive electrode composite here with a thickness of 50 um and a porosity of 30%, and let `make_composite()` calculate the rest:"
   ]
  },
  {
   "cell_type": "code",
   "execution_count": 37,
   "metadata": {},
   "outputs": [
    {
     "name": "stdout",
     "output_type": "stream",
     "text": [
      "{\n",
      "     \"active\": {\n",
      "          \"name\": \"NMC811\",\n",
      "          \"speccap\": \"195.0 hour * milliampere / gram\",\n",
      "          \"avgE\": \"3.86 volt\",\n",
      "          \"density\": \"4.7 gram / centimeter ** 3\"\n",
      "     },\n",
      "     \"arealcap\": \"(3.047 +/- 0.030) hour * milliampere / centimeter ** 2\",\n",
      "     \"thick\": \"(50.0 +/- 0.5) micrometer\",\n",
      "     \"arealload\": \"(0.01563 +/- 0.00016) gram / centimeter ** 2\",\n",
      "     \"activefrac\": 0.95,\n",
      "     \"porosity\": 0.3,\n",
      "     \"density\": \"(3.13 +/- 0.04) gram / centimeter ** 3\"\n",
      "}\n"
     ]
    }
   ],
   "source": [
    "# NMC electrode composite\n",
    "pos_composite = make_composite(active=NMC, \n",
    "                           thick = (50*unit.um).plus_minus(0.5), \n",
    "                           porosity = 0.3,\n",
    "                           unit=unit)\n",
    "print_struct(pos_composite)"
   ]
  },
  {
   "cell_type": "markdown",
   "metadata": {},
   "source": [
    "Now lets look at the graphite active material and the negative electrode composite, highlighted here in green:\n",
    "\n",
    "<div>\n",
    "<img src=\"images/botb2_f2.png\" width=\"500\">\n",
    "</div>\n",
    "\n",
    "The graphite active material here has 344 mAh/g of reversible capacity, an average voltage vs Li of 0.17 V, and a crystal density of 2.24 g/cm3:"
   ]
  },
  {
   "cell_type": "code",
   "execution_count": 38,
   "metadata": {},
   "outputs": [],
   "source": [
    "# Active material graphite\n",
    "Gr = make_active(name='Graphite',\n",
    "                 speccap=344*unit.mA*unit.hr/unit.g, \n",
    "                 avgE=0.17*unit.V, \n",
    "                 density=2.24*unit.g/unit.cm**3,\n",
    "                 unit=unit)"
   ]
  },
  {
   "cell_type": "markdown",
   "metadata": {},
   "source": [
    "The negative electrode composite here with an areal capacity 1.1x that of the cathode, a coating density of 1.5 g/cm3 and let `make_composite()` calculate the rest:"
   ]
  },
  {
   "cell_type": "code",
   "execution_count": 39,
   "metadata": {},
   "outputs": [
    {
     "name": "stdout",
     "output_type": "stream",
     "text": [
      "{\n",
      "     \"active\": {\n",
      "          \"name\": \"Graphite\",\n",
      "          \"speccap\": \"344.0 hour * milliampere / gram\",\n",
      "          \"avgE\": \"0.17 volt\",\n",
      "          \"density\": \"2.24 gram / centimeter ** 3\"\n",
      "     },\n",
      "     \"arealcap\": \"(3.352 +/- 0.034) hour * milliampere / centimeter ** 2\",\n",
      "     \"thick\": \"(65 +/- 4) micrometer\",\n",
      "     \"arealload\": \"(0.00974 +/- 0.00010) gram / centimeter ** 2\",\n",
      "     \"activefrac\": \"(0.965 +/- 0.010) dimensionless\",\n",
      "     \"porosity\": \"(0.31 +/- 0.05) dimensionless\",\n",
      "     \"density\": \"(1.50 +/- 0.10) gram / centimeter ** 3\"\n",
      "}\n"
     ]
    }
   ],
   "source": [
    "# Graphite electrode composite\n",
    "neg_composite = make_composite(active=Gr, \n",
    "                               arealcap = pos_composite.arealcap*1.1, #NP RATIO\n",
    "                               activefrac = (0.965*unit.dimensionless).plus_minus(0.01),\n",
    "                               density = (1.5*unit.g/unit.cm**3).plus_minus(0.1),\n",
    "                               unit=unit)\n",
    "print_struct(neg_composite)"
   ]
  },
  {
   "cell_type": "markdown",
   "metadata": {
    "tags": []
   },
   "source": [
    "---\n",
    "## B) Current collectors\n",
    "\n",
    "The powdered active material is coated onto a metallic foil which serves to provide electrical contact to allow electrons to travel at the electrodes and travel through the external circuit. We highlighted where they are here in green:\n",
    "\n",
    "<div>\n",
    "<img src=\"images/botb2_f3.png\" width=\"500\">\n",
    "</div>\n",
    "\n",
    "Commercial lithium ion batteries usually use aluminum for the positive electrode side, and copper for the negative electrode side. As we'll see aluminum is much less dense than copper, and so to save weight we would ideally use it for both sides. But Al unfortunately alloys with lithium at low voltages. Prof Emma Kendrick and co-workers recently published a [review on current collectors](https://doi.org/10.1016/j.jpowsour.2020.229321), along with this timeline of current collector development:\n",
    "\n",
    "<div>\n",
    "<img src=\"images/botb2_f4.png\" width=\"800\">\n",
    "</div>\n",
    "\n",
    "Typically copper current collectors can be rolled to be thinner than aluminum ones, the thickness of current collectors in general fall in the range of 8 to 25 um.\n",
    "\n",
    "Copper metal has a density of 8.96 g/cm3, and aluminum has a density of 2.7 g/cm3.\n",
    "\n",
    "Within the `make_currentcollector()` function, the density is set on whether we name it 'Al' or 'Cu'. For this cell stack we give the aluminum foil a thickness of 15 um and the copper one a thickness of 8 um:"
   ]
  },
  {
   "cell_type": "code",
   "execution_count": 40,
   "metadata": {},
   "outputs": [],
   "source": [
    "#Current Collectors \n",
    "cc_Al = make_currentcollector(name='Al',\n",
    "                              thick=15*unit.um,\n",
    "                              unit=unit)\n",
    "cc_Cu = make_currentcollector(name='Cu',\n",
    "                              thick=8*unit.um,\n",
    "                              unit=unit)"
   ]
  },
  {
   "cell_type": "markdown",
   "metadata": {
    "tags": []
   },
   "source": [
    "---\n",
    "## C) Separator\n",
    "\n",
    "The separator is a microporous material, usually a polymer, that sits between the positive and negative electrodes. This prevents electrical contact and also prevents the battery going boom via a short circuit. Again its here in green:\n",
    "\n",
    "<div>\n",
    "<img src=\"images/botb2_f5.png\" width=\"500\">\n",
    "</div>\n",
    "\n",
    "These separators are usually made of thin layers of polyethylene (PE), polypropylene (PP), or ceramic coated versions of them that add extra safety. Prof Vanessa Wood and co-workers shared their work on [characterizing battery separators](https://www.nature.com/articles/s41560-018-0295-9), along with some close up shots of what the pores look like:\n",
    "\n",
    "<div>\n",
    "<img src=\"images/botb2_f6.png\" width=\"800\">\n",
    "</div>\n",
    "\n",
    "From this it seems like the typical separator porosities range from 40% to 55%. The thicknesses range from 15 to 40 um. \n",
    "\n",
    "We'll set our separator to have a porosity of 44%, thickness of 16 um, and use an approx polypropylene plastic density of 0.9 g/cm3:"
   ]
  },
  {
   "cell_type": "code",
   "execution_count": 41,
   "metadata": {},
   "outputs": [],
   "source": [
    "#Separator\n",
    "separator = make_separator(name=\"PP\",\n",
    "                           porosity=0.44,\n",
    "                           thick=16*unit.um,\n",
    "                           density=0.9*unit.g/unit.cm**3, #bulk density\n",
    "                           unit=unit)"
   ]
  },
  {
   "cell_type": "markdown",
   "metadata": {
    "tags": []
   },
   "source": [
    "---\n",
    "## D) Electrolyte\n",
    "\n",
    "The electrolyte is the solution that ions move through to get to either electrode. Key parameters here for our model is the density (related to the molarity), and the volume of the electrolyte used in the battery. The electrolyte is a liquid that permeates all the pores of the electrode composite and separator, highlighted in green:\n",
    "\n",
    "<div>\n",
    "<img src=\"images/botb2_f7.png\" width=\"500\">\n",
    "</div>\n",
    "\n",
    "The solution density is actually a critical parameter in my PhD research for [battery electrolyte modelling.](https://pubs.acs.org/doi/abs/10.1021/acsenergylett.1c01213) For typical conventional commercial lithium ion electrolytes we'll approx the solution density \\\\(\\rho\\\\) [g/cm3] as a linear function of the salt molarity \\\\(c\\\\) [mol/L] with this equation which is set in the `make_electrolyte()` function: \\\\(\\rho = 0.091c + 1.1 \\\\) \n",
    "\n",
    "Electrolyte concentration is usually set around 1-1.5 M, higher to account for the consumption/degradation of lithium salt during the lifetime of the battery. We will define the electrolyte here to have a concentration of 1.1 M:"
   ]
  },
  {
   "cell_type": "code",
   "execution_count": 42,
   "metadata": {},
   "outputs": [
    {
     "name": "stdout",
     "output_type": "stream",
     "text": [
      "{\n",
      "     \"name\": \"LiPF6:EC:EMC 3:7\",\n",
      "     \"concentration\": \"(1.10 +/- 0.05) mole / liter\",\n",
      "     \"density\": \"1.200+/-0.005 gram / centimeter ** 3\"\n",
      "}\n"
     ]
    }
   ],
   "source": [
    "#Electrolyte\n",
    "electrolyte = make_electrolyte(name=\"LiPF6:EC:EMC 3:7\",\n",
    "                        concentration=(1.1*unit.mol/unit.L).plus_minus(0.05),\n",
    "                        unit=unit)\n",
    "print_struct(electrolyte)"
   ]
  },
  {
   "cell_type": "markdown",
   "metadata": {},
   "source": [
    "**How much electrolyte?**\n",
    "\n",
    "The volume of electrolyte used is a critical parameter. Too much, and we load the cell with too much dead weight. Too little, you dont wet the electrode and separator pores enough, and the cell also degrades faster as electrolyte is consumed. The relationship for degradation and electrolyte volume is well represented in this [work from Gunther Reinhart and coworkers.](https://iopscience.iop.org/article/10.1149/2.0121910jes) \n",
    "\n",
    "From the electrode and separator porosities, we can work out on a per area basis how much electrolyte would be needed to exactly fill the pores. Note that in actuality, like in the above work, an excess in the range of 1-4x this is needed. Therefore we set the total volume of the electrolyte to relate to the full battery and not just the cell stack itself. The volume of electrolyte as a ratio to the battery capacity is usually lower than 3 g/Ah. "
   ]
  },
  {
   "cell_type": "code",
   "execution_count": 43,
   "metadata": {},
   "outputs": [
    {
     "name": "stdout",
     "output_type": "stream",
     "text": [
      "(0.00419 +/- 0.00033) milliliter / centimeter ** 2\n"
     ]
    }
   ],
   "source": [
    "# Electrolyte pore volume\n",
    "\n",
    "# Pore volume per area for the positive electrode:\n",
    "pos_vol = (pos_composite.porosity*pos_composite.thick)\n",
    "\n",
    "# Pore volume per area for the negative electrode:\n",
    "neg_vol = (neg_composite.porosity*neg_composite.thick)\n",
    "\n",
    "# Pore volume per area for the separator:\n",
    "sep_vol = (separator.porosity*separator.thick)\n",
    "\n",
    "# Total electrolyte VOLUME PER AREA (thickness for the stack) in units mL/cm2\n",
    "\n",
    "electrolyte_vol_per_area = pos_vol + neg_vol + sep_vol\n",
    "electrolyte_vol_per_area.ito(unit.mL/unit.cm**2)\n",
    "print(electrolyte_vol_per_area)"
   ]
  },
  {
   "cell_type": "markdown",
   "metadata": {},
   "source": [
    "---\n",
    "## E) Combining the whole stack\n",
    "\n",
    "Now that we have defined all the layers for the electrode stack:\n",
    "```\n",
    "Cell stack\n",
    "    - Electrode (+)\n",
    "        - Electrode composite (+)\n",
    "            - Active material (+)\n",
    "        - Current collector (+)\n",
    "    - Electrode (-)\n",
    "        - Electrode composite (-)\n",
    "            - Active material (-)\n",
    "        - Current collector (-)\n",
    "    - Separator\n",
    "    - Electrolyte\n",
    "```\n",
    "We can combine the layers into a single structure in the cell model code by first layering the coating composite onto the current collector, this entirety is considered as the electrode:"
   ]
  },
  {
   "cell_type": "code",
   "execution_count": 44,
   "metadata": {},
   "outputs": [
    {
     "name": "stdout",
     "output_type": "stream",
     "text": [
      "{\n",
      "     \"positive\": {\n",
      "          \"composite\": {\n",
      "               \"active\": {\n",
      "                    \"name\": \"NMC811\",\n",
      "                    \"speccap\": \"195.0 hour * milliampere / gram\",\n",
      "                    \"avgE\": \"3.86 volt\",\n",
      "                    \"density\": \"4.7 gram / centimeter ** 3\"\n",
      "               },\n",
      "               \"arealcap\": \"(3.047 +/- 0.030) hour * milliampere / centimeter ** 2\",\n",
      "               \"thick\": \"(50.0 +/- 0.5) micrometer\",\n",
      "               \"arealload\": \"(0.01563 +/- 0.00016) gram / centimeter ** 2\",\n",
      "               \"activefrac\": 0.95,\n",
      "               \"porosity\": 0.3,\n",
      "               \"density\": \"(3.13 +/- 0.04) gram / centimeter ** 3\"\n",
      "          },\n",
      "          \"currentcollector\": {\n",
      "               \"name\": \"Al\",\n",
      "               \"thick\": \"15 micrometer\",\n",
      "               \"density\": \"2.7 gram / centimeter ** 3\"\n",
      "          }\n",
      "     },\n",
      "     \"negative\": {\n",
      "          \"composite\": {\n",
      "               \"active\": {\n",
      "                    \"name\": \"Graphite\",\n",
      "                    \"speccap\": \"344.0 hour * milliampere / gram\",\n",
      "                    \"avgE\": \"0.17 volt\",\n",
      "                    \"density\": \"2.24 gram / centimeter ** 3\"\n",
      "               },\n",
      "               \"arealcap\": \"(3.352 +/- 0.034) hour * milliampere / centimeter ** 2\",\n",
      "               \"thick\": \"(65 +/- 4) micrometer\",\n",
      "               \"arealload\": \"(0.00974 +/- 0.00010) gram / centimeter ** 2\",\n",
      "               \"activefrac\": \"(0.965 +/- 0.010) dimensionless\",\n",
      "               \"porosity\": \"(0.31 +/- 0.05) dimensionless\",\n",
      "               \"density\": \"(1.50 +/- 0.10) gram / centimeter ** 3\"\n",
      "          },\n",
      "          \"currentcollector\": {\n",
      "               \"name\": \"Cu\",\n",
      "               \"thick\": \"8 micrometer\",\n",
      "               \"density\": \"8.96 gram / centimeter ** 3\"\n",
      "          }\n",
      "     },\n",
      "     \"separator\": {\n",
      "          \"name\": \"PP\",\n",
      "          \"thick\": \"16 micrometer\",\n",
      "          \"porosity\": 0.44,\n",
      "          \"density\": \"0.9 gram / centimeter ** 3\"\n",
      "     },\n",
      "     \"electrolyte\": {\n",
      "          \"name\": \"LiPF6:EC:EMC 3:7\",\n",
      "          \"concentration\": \"(1.10 +/- 0.05) mole / liter\",\n",
      "          \"density\": \"1.200+/-0.005 gram / centimeter ** 3\"\n",
      "     }\n",
      "}\n"
     ]
    }
   ],
   "source": [
    "# Make the full cell stack\n",
    "\n",
    "pos_electrode = make_electrode(composite=pos_composite,\n",
    "                               currentcollector=cc_Al,\n",
    "                               unit=unit)\n",
    "neg_electrode = make_electrode(composite=neg_composite,\n",
    "                               currentcollector=cc_Cu,\n",
    "                               unit=unit)\n",
    "\n",
    "cellstack = make_cellstack(positive=pos_electrode,\n",
    "                           negative=neg_electrode,\n",
    "                           separator=separator,\n",
    "                           electrolyte=electrolyte,\n",
    "                           unit=unit)\n",
    "print_struct(cellstack)"
   ]
  },
  {
   "cell_type": "markdown",
   "metadata": {},
   "source": [
    "**What do the thicknesses of our cell stack look like?**\n",
    "\n",
    "We can use the `plot_thickbreakdown` function to plot out what each electrode looks like in terms of their thicknesses. Remember that in most batteries, the electrode active materials are coated onto both sides of the current collector foil. There are also 2 separators to make sure both sides do not short circuit.\n",
    "\n",
    "Meanwhile, here are also some photos of what the electrode coatings and separators look like before they get layered into a cell stack:\n",
    "\n",
    "<figure>\n",
    "    <img src=\"images/botb2_f8.png\" width=\"900\">\n",
    "</figure>\n",
    "\n",
    "Figure images from [1](https://www.targray.com/li-ion-battery/coated-electrodes) and [2](https://www.japanchemicaldaily.com/2016/12/21/teijin-looks-enter-market-automotive-lithium-ion-battery-separators/)\n"
   ]
  },
  {
   "cell_type": "code",
   "execution_count": 45,
   "metadata": {},
   "outputs": [
    {
     "name": "stdout",
     "output_type": "stream",
     "text": [
      "cell input\n"
     ]
    },
    {
     "data": {
      "image/png": "[encoded data removed]",
      "text/plain": [
       "<Figure size 1100x100 with 1 Axes>"
      ]
     },
     "metadata": {
      "needs_background": "light"
     },
     "output_type": "display_data"
    }
   ],
   "source": [
    "cell = {\"cellstack\": cellstack}\n",
    "cell = DotMap(cell)\n",
    "cell.unit = unit\n",
    "plot_thickbreakdown(cell)"
   ]
  },
  {
   "cell_type": "markdown",
   "metadata": {},
   "source": [
    "---\n",
    "# Conclusion\n",
    "\n",
    "* Congrats! We've successfully assembled a cell stack together with current collectors, electrode composites, separators and electrolyte\n",
    "* We also looked at thicknesses, porosities, densities, and other properties that are commonly applicable in lithium-ion batteries\n",
    "* Next time we will take the electrode stack sandwich, and look into winding it into an actual cylindrical battery!\n",
    "\n",
    "**Please consider supporting Intercalation and BotB with a subscription. We'll work through some interesting case studies in the near future!**\n",
    "***[Subscribe Now!](https://intercalationstation.substack.com/publish/post/%%checkout_url%%)***\n",
    "\n"
   ]
  },
  {
   "cell_type": "code",
   "execution_count": null,
   "metadata": {},
   "outputs": [],
   "source": []
  }
 ],
 "metadata": {
  "kernelspec": {
   "display_name": "Python 3",
   "language": "python",
   "name": "python3"
  },
  "language_info": {
   "codemirror_mode": {
    "name": "ipython",
    "version": 3
   },
   "file_extension": ".py",
   "mimetype": "text/x-python",
   "name": "python",
   "nbconvert_exporter": "python",
   "pygments_lexer": "ipython3",
   "version": "3.7.6"
  }
 },
 "nbformat": 4,
 "nbformat_minor": 4
}
